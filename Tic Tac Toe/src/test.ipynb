{
 "cells": [
  {
   "cell_type": "code",
   "execution_count": 2,
   "id": "e8407650",
   "metadata": {},
   "outputs": [],
   "source": [
    "from prettytable import PrettyTable\n",
    "table = PrettyTable()\n"
   ]
  },
  {
   "cell_type": "code",
   "execution_count": 2,
   "id": "feccf7b0",
   "metadata": {},
   "outputs": [],
   "source": [
    "table.field_names = [\"City name\", \"Area\", \"Population\", \"Annual Rainfall\"]\n",
    "table.add_row([\"Adelaide\", 1295, 1158259, 600.5])\n",
    "table.add_row([\"Brisbane\", 5905, 1857594, 1146.4])\n",
    "table.add_row([\"Darwin\", 112, 120900, 1714.7])\n",
    "table.add_row([\"Hobart\", 1357, 205556, 619.5])\n",
    "table.add_row([\"Sydney\", 2058, 4336374, 1214.8])\n",
    "table.add_row([\"Melbourne\", 1566, 3806092, 646.9])\n",
    "table.add_row([\"Perth\", 5386, 1554769, 869.4])"
   ]
  },
  {
   "cell_type": "code",
   "execution_count": 3,
   "id": "2e2ddba2",
   "metadata": {},
   "outputs": [
    {
     "name": "stdout",
     "output_type": "stream",
     "text": [
      "+-----------+------+------------+-----------------+\n",
      "| City name | Area | Population | Annual Rainfall |\n",
      "+-----------+------+------------+-----------------+\n",
      "|  Adelaide | 1295 |  1158259   |      600.5      |\n",
      "|  Brisbane | 5905 |  1857594   |      1146.4     |\n",
      "|   Darwin  | 112  |   120900   |      1714.7     |\n",
      "|   Hobart  | 1357 |   205556   |      619.5      |\n",
      "|   Sydney  | 2058 |  4336374   |      1214.8     |\n",
      "| Melbourne | 1566 |  3806092   |      646.9      |\n",
      "|   Perth   | 5386 |  1554769   |      869.4      |\n",
      "+-----------+------+------------+-----------------+\n"
     ]
    }
   ],
   "source": [
    "print(table)"
   ]
  },
  {
   "cell_type": "code",
   "execution_count": 3,
   "id": "2a85047d",
   "metadata": {},
   "outputs": [],
   "source": [
    "t = PrettyTable()"
   ]
  },
  {
   "cell_type": "code",
   "execution_count": 10,
   "id": "fb3801b1",
   "metadata": {},
   "outputs": [],
   "source": [
    "t.add_row([' ', ' ', ' '])\n",
    "t.add_divider()\n",
    "t.add_row([' ', ' ', ' '], divider=True)\n",
    "t.add_row([' ', ' ', ' '], divider=True)"
   ]
  },
  {
   "cell_type": "code",
   "execution_count": 11,
   "id": "dd9dcbee",
   "metadata": {},
   "outputs": [
    {
     "name": "stdout",
     "output_type": "stream",
     "text": [
      "+---------+---------+---------+\n",
      "| Field 1 | Field 2 | Field 3 |\n",
      "+---------+---------+---------+\n",
      "|         |         |         |\n",
      "|         |         |         |\n",
      "|         |         |         |\n",
      "|         |         |         |\n",
      "|         |         |         |\n",
      "|         |         |         |\n",
      "|         |         |         |\n",
      "+---------+---------+---------+\n",
      "|         |         |         |\n",
      "+---------+---------+---------+\n",
      "|         |         |         |\n",
      "+---------+---------+---------+\n",
      "|         |         |         |\n",
      "+---------+---------+---------+\n",
      "|         |         |         |\n",
      "+---------+---------+---------+\n"
     ]
    }
   ],
   "source": [
    "print(t)"
   ]
  },
  {
   "cell_type": "code",
   "execution_count": 77,
   "id": "82e7b2b8",
   "metadata": {},
   "outputs": [],
   "source": [
    "\n",
    "\n",
    "import random"
   ]
  },
  {
   "cell_type": "code",
   "execution_count": null,
   "id": "6cec80bf",
   "metadata": {},
   "outputs": [],
   "source": []
  },
  {
   "cell_type": "code",
   "execution_count": null,
   "id": "37b9eb65",
   "metadata": {},
   "outputs": [],
   "source": [
    "class TicTacToe:\n",
    "    def __init__(self) -> None:\n",
    "        self.board = [' '] * 10\n",
    "        self.player_turn = self.get_random_first_player()\n",
    "\n",
    "    def show_board(self):\n",
    "        print(f\"\"\"\n",
    "\n",
    "            {self.board[1]} | {self.board[2]} | {self.board[3]}\n",
    "           -----------\n",
    "            {self.board[4]} | {self.board[5]} | {self.board[6]}\n",
    "           -----------\n",
    "            {self.board[7]} | {self.board[8]} | {self.board[9]}\n",
    "            \n",
    "        \"\"\")\n",
    "\n",
    "    def get_random_first_player(self):\n",
    "        player_1 = input('Please write down the name of first player: ')\n",
    "        player_2 = input('Please write down the name of second player: ')\n",
    "\n",
    "        if random.choice([player_1, player_2]) == player_1:\n",
    "            print(f'{player_1} is X.\\n{player_2} is O.')\n",
    "        else:\n",
    "            print(f'{player_2} is X.\\n{player_1} is O.')\n",
    "        \n",
    "        return 'X'\n",
    "\n",
    "    def swap_player_turn(self):\n",
    "        if self.player_turn == 'X':\n",
    "            self.player_turn = 'O'\n",
    "        else:\n",
    "            self.player_turn = 'X'\n",
    "        return self.player_turn\n",
    "    \n",
    "    def fix_spot(self, cell, player):\n",
    "        if self.board[int(cell)] != ' ':\n",
    "            print(f'Square number {cell} is taken.')\n",
    "        else:\n",
    "            self.board[int(cell)] = player\n",
    "\n",
    "    def check_board_filled(self):\n",
    "        return ' ' in self.board[1:]\n",
    "\n",
    "    def check_winner(self, player):\n",
    "        win_combinations = [(1, 2, 3), (4, 5, 6), (7, 8, 9),\n",
    "                            (1, 4, 7), (2, 5, 8), (3, 6, 9),\n",
    "                            (1, 5, 9), (3, 5, 7)]\n",
    "        \n",
    "        for combination in win_combinations:\n",
    "            if self.board[combination[0]] == self.board[combination[1]] == self.board[combination[2]] == player:\n",
    "                return True\n",
    "        return False\n",
    "\n",
    "    def play(self):\n",
    "        while True:\n",
    "            cell = input(\"\"\"Please choose one of the squares:\n",
    "                          1 | 2 | 3\n",
    "                         -----------\n",
    "                          4 | 5 | 6\n",
    "                         -----------\n",
    "                          7 | 8 | 9\n",
    "                            \"\"\")\n",
    "            if cell in range(1, 10):\n",
    "                self.fix_spot(cell, self.player_turn)\n",
    "                self.show_board()\n",
    "\n",
    "                if self.check_winner(self.player_turn):\n",
    "                    print(f'Player {self.player_turn} won!')\n",
    "                    break\n",
    "\n",
    "                if self.check_board_filled():\n",
    "                    print('it is a draw!')\n",
    "                    break\n",
    "\n"
   ]
  },
  {
   "cell_type": "code",
   "execution_count": 85,
   "id": "4582924c",
   "metadata": {},
   "outputs": [
    {
     "name": "stdout",
     "output_type": "stream",
     "text": [
      "\n",
      "\n",
      "              |   |  \n",
      "           -----------\n",
      "              |   |  \n",
      "           -----------\n",
      "              |   |  \n",
      "            \n",
      "        \n"
     ]
    }
   ],
   "source": [
    "game = TicTacToe()\n",
    "game.show_board()"
   ]
  },
  {
   "cell_type": "code",
   "execution_count": 65,
   "id": "41e3891b",
   "metadata": {},
   "outputs": [],
   "source": [
    "game.fix_spot(2 , 'X')\n",
    "game.fix_spot(1, 'X')\n",
    "game.fix_spot(3, 'X')"
   ]
  },
  {
   "cell_type": "code",
   "execution_count": 66,
   "id": "faa3ecf8",
   "metadata": {},
   "outputs": [
    {
     "name": "stdout",
     "output_type": "stream",
     "text": [
      "\n",
      "\n",
      "            X | X | X\n",
      "           -----------\n",
      "              |   |  \n",
      "           -----------\n",
      "              |   |  \n",
      "            \n",
      "        \n"
     ]
    }
   ],
   "source": [
    "game.show_board()"
   ]
  },
  {
   "cell_type": "code",
   "execution_count": 67,
   "id": "ee1d6522",
   "metadata": {},
   "outputs": [
    {
     "data": {
      "text/plain": [
       "True"
      ]
     },
     "execution_count": 67,
     "metadata": {},
     "output_type": "execute_result"
    }
   ],
   "source": [
    "game.check_winner('X')"
   ]
  },
  {
   "cell_type": "code",
   "execution_count": 68,
   "id": "ad658e9e",
   "metadata": {},
   "outputs": [
    {
     "name": "stdout",
     "output_type": "stream",
     "text": [
      "\n",
      "\n",
      "            X | X | X\n",
      "           -----------\n",
      "              |   |  \n",
      "           -----------\n",
      "              |   |  \n",
      "            \n",
      "        \n"
     ]
    }
   ],
   "source": [
    "game.show_board()"
   ]
  },
  {
   "cell_type": "code",
   "execution_count": 69,
   "id": "6f500521",
   "metadata": {},
   "outputs": [
    {
     "name": "stdout",
     "output_type": "stream",
     "text": [
      "Square number 2 is taken.\n"
     ]
    }
   ],
   "source": [
    "game.fix_spot(2, 'O')"
   ]
  },
  {
   "cell_type": "code",
   "execution_count": 86,
   "id": "3f5b3263",
   "metadata": {},
   "outputs": [
    {
     "name": "stdout",
     "output_type": "stream",
     "text": [
      "sara is X.\n",
      "meli is O.\n"
     ]
    }
   ],
   "source": [
    "game.play()"
   ]
  },
  {
   "cell_type": "code",
   "execution_count": 87,
   "id": "8496bdc9",
   "metadata": {},
   "outputs": [
    {
     "name": "stdout",
     "output_type": "stream",
     "text": [
      "sara is X.\n",
      "meli is O.\n"
     ]
    },
    {
     "data": {
      "text/plain": [
       "'O'"
      ]
     },
     "execution_count": 87,
     "metadata": {},
     "output_type": "execute_result"
    }
   ],
   "source": [
    "game.get_random_first_player()"
   ]
  },
  {
   "cell_type": "code",
   "execution_count": 89,
   "id": "423d4d56",
   "metadata": {},
   "outputs": [
    {
     "data": {
      "text/plain": [
       "'X'"
      ]
     },
     "execution_count": 89,
     "metadata": {},
     "output_type": "execute_result"
    }
   ],
   "source": [
    "game.player_turn"
   ]
  },
  {
   "cell_type": "code",
   "execution_count": 90,
   "id": "c9b535fd",
   "metadata": {},
   "outputs": [
    {
     "name": "stdout",
     "output_type": "stream",
     "text": [
      "\n",
      "\n",
      "              | O |  \n",
      "           -----------\n",
      "              |   |  \n",
      "           -----------\n",
      "              |   |  \n",
      "            \n",
      "        \n"
     ]
    }
   ],
   "source": [
    "game.show_board()"
   ]
  },
  {
   "cell_type": "code",
   "execution_count": null,
   "id": "123a86b0",
   "metadata": {},
   "outputs": [],
   "source": []
  },
  {
   "cell_type": "code",
   "execution_count": 1,
   "id": "8769ce74",
   "metadata": {},
   "outputs": [
    {
     "name": "stdout",
     "output_type": "stream",
     "text": [
      "\n",
      "       |   |  \n",
      "    -----------\n",
      "       |   |  \n",
      "    -----------\n",
      "       |   |  \n",
      "      \n",
      "\n"
     ]
    }
   ],
   "source": [
    "tic = [' '] * 10\n",
    "\n",
    "print(f\"\"\"\n",
    "     {tic[0]} | {tic[1]} | {tic[2]}\n",
    "    -----------\n",
    "     {tic[3]} | {tic[4]} | {tic[5]}\n",
    "    -----------\n",
    "     {tic[6]} | {tic[7]} | {tic[8]}\n",
    "      \n",
    "\"\"\")"
   ]
  },
  {
   "cell_type": "code",
   "execution_count": 39,
   "id": "51fea0eb",
   "metadata": {},
   "outputs": [
    {
     "name": "stdout",
     "output_type": "stream",
     "text": [
      "Please choose one of the squares:\n",
      "     1 | 2 | 3\n",
      "    -----------\n",
      "     4 | 5 | 6\n",
      "    -----------\n",
      "     7 | 8 | 9\n",
      "\n"
     ]
    }
   ],
   "source": [
    "print(\"\"\"Please choose one of the squares:\n",
    "     1 | 2 | 3\n",
    "    -----------\n",
    "     4 | 5 | 6\n",
    "    -----------\n",
    "     7 | 8 | 9\n",
    "\"\"\")"
   ]
  },
  {
   "cell_type": "code",
   "execution_count": 51,
   "id": "3d931ad8",
   "metadata": {},
   "outputs": [
    {
     "name": "stdout",
     "output_type": "stream",
     "text": [
      "Square number 2 is taken.\n"
     ]
    }
   ],
   "source": [
    "choice = 2\n",
    "for i in range(9):\n",
    "    if i + 1 == choice:\n",
    "        print(f'Square number {i + 1} is taken.')\n"
   ]
  },
  {
   "cell_type": "code",
   "execution_count": 55,
   "id": "27ce98bc",
   "metadata": {},
   "outputs": [
    {
     "name": "stdout",
     "output_type": "stream",
     "text": [
      "[' ', ' ', ' ', ' ', ' ', ' ', ' ', ' ', ' ', ' ']\n"
     ]
    }
   ],
   "source": [
    "table = \"\"\"\n",
    "     1 | 2 | 3\n",
    "    -----------\n",
    "     4 | 5 | 6\n",
    "    -----------\n",
    "     7 | 8 | 9\n",
    "\"\"\"\n",
    "print(tic)"
   ]
  },
  {
   "cell_type": "code",
   "execution_count": 1,
   "id": "6823c6c1",
   "metadata": {},
   "outputs": [
    {
     "data": {
      "text/plain": [
       "4"
      ]
     },
     "execution_count": 1,
     "metadata": {},
     "output_type": "execute_result"
    }
   ],
   "source": [
    "# Input: nums = [2,7,11,15], target = 9\n",
    "# Output: [0,1]\n",
    "# Explanation: Because nums[0] + nums[1] == 9, we return [0, 1].\n",
    "\n",
    "\n",
    "nums = [2,7,11,15]\n",
    "target = 9\n",
    "\n",
    "len(nums)"
   ]
  },
  {
   "cell_type": "code",
   "execution_count": 8,
   "id": "868e78b5",
   "metadata": {},
   "outputs": [
    {
     "name": "stdout",
     "output_type": "stream",
     "text": [
      "[0, 1]\n"
     ]
    }
   ],
   "source": [
    "for i in range(len(nums)):\n",
    "    if nums[i - 1] + nums[i] == target:\n",
    "        print([i - 1, i])"
   ]
  },
  {
   "cell_type": "code",
   "execution_count": 15,
   "id": "e782285d",
   "metadata": {},
   "outputs": [
    {
     "name": "stdout",
     "output_type": "stream",
     "text": [
      "\n",
      "       | 2 |  \n",
      "    -----------\n",
      "       |   |  \n",
      "    -----------\n",
      "       |   |  \n",
      "      \n",
      "\n"
     ]
    }
   ],
   "source": [
    "choice = 2\n",
    "\n",
    "tic = [' '] * 10\n",
    "\n",
    "for i in range(10):\n",
    "    if i == choice:\n",
    "        tic[i] = i\n",
    "\n",
    "\n",
    "print(f\"\"\"\n",
    "     {tic[1]} | {tic[2]} | {tic[3]}\n",
    "    -----------\n",
    "     {tic[4]} | {tic[5]} | {tic[6]}\n",
    "    -----------\n",
    "     {tic[7]} | {tic[8]} | {tic[9]}\n",
    "      \n",
    "\"\"\")"
   ]
  },
  {
   "cell_type": "code",
   "execution_count": 12,
   "id": "15c5ca5b",
   "metadata": {},
   "outputs": [],
   "source": [
    "tic[0] = 1"
   ]
  },
  {
   "cell_type": "code",
   "execution_count": 13,
   "id": "a5dd016e",
   "metadata": {},
   "outputs": [
    {
     "name": "stdout",
     "output_type": "stream",
     "text": [
      "[1, ' ', ' ', ' ', ' ', ' ', ' ', ' ', ' ', ' ']\n"
     ]
    }
   ],
   "source": [
    "print(tic)"
   ]
  },
  {
   "cell_type": "code",
   "execution_count": null,
   "id": "0d1adf76",
   "metadata": {},
   "outputs": [],
   "source": [
    "def get_random_first_player(self):\n",
    "        player_1 = input('Please write down the name of first player: ')\n",
    "        player_2 = input('Please write down the name of second player: ')\n",
    "\n",
    "        if random.choice([player_1, player_2]) == player_1:\n",
    "            print(f'{player_1} is X.')\n",
    "        else:\n",
    "            print(f'{player_2} is X.')\n"
   ]
  },
  {
   "cell_type": "code",
   "execution_count": 51,
   "id": "e24a160f",
   "metadata": {},
   "outputs": [
    {
     "name": "stdout",
     "output_type": "stream",
     "text": [
      "hello dear.\n",
      "who are you?\n"
     ]
    }
   ],
   "source": [
    "print('hello dear.\\nwho are you?')"
   ]
  },
  {
   "cell_type": "code",
   "execution_count": null,
   "id": "b51f96d3",
   "metadata": {},
   "outputs": [],
   "source": []
  }
 ],
 "metadata": {
  "kernelspec": {
   "display_name": "py312",
   "language": "python",
   "name": "python3"
  },
  "language_info": {
   "codemirror_mode": {
    "name": "ipython",
    "version": 3
   },
   "file_extension": ".py",
   "mimetype": "text/x-python",
   "name": "python",
   "nbconvert_exporter": "python",
   "pygments_lexer": "ipython3",
   "version": "3.12.9"
  }
 },
 "nbformat": 4,
 "nbformat_minor": 5
}
